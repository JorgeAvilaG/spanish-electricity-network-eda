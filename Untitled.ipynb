{
 "cells": [
  {
   "cell_type": "code",
   "execution_count": 17,
   "id": "79450851-5eaa-4842-9601-5765af904c9e",
   "metadata": {},
   "outputs": [],
   "source": [
    "import pandas as pd\n",
    "import numpy as np\n",
    "import requests\n",
    "import json"
   ]
  },
  {
   "cell_type": "code",
   "execution_count": 125,
   "id": "9db14288-5e49-44cc-b4d4-190c69afe678",
   "metadata": {},
   "outputs": [
    {
     "data": {
      "text/plain": [
       "'https://apidatos.ree.es/en/datos/generacion/estructura-generacion?start_date=2022-01-01T00:00&end_date=2022-01-5T00:00&time_trunc=day&geo_trunc=electric_system&geo_limit=peninsular&geo_ids=8741'"
      ]
     },
     "execution_count": 125,
     "metadata": {},
     "output_type": "execute_result"
    }
   ],
   "source": [
    "# GET /{lang}/datos/{category}/{widget}?[query]\n",
    "lang = 'en'\n",
    "category = 'generacion'\n",
    "widget = 'estructura-generacion'\n",
    "\n",
    "start_date = '2022-01-01T00:00'\n",
    "end_date = '2022-01-5T00:00'\n",
    "time_trunc = 'day'\n",
    "\n",
    "\n",
    "query = f'https://apidatos.ree.es/{lang}/datos/{category}/{widget}?start_date={start_date}&end_date={end_date}&time_trunc={time_trunc}&geo_trunc=electric_system&geo_limit=peninsular&geo_ids=8741'\n",
    "query"
   ]
  },
  {
   "cell_type": "code",
   "execution_count": 151,
   "id": "c48fa33e-1f92-44f1-8ca1-6137aab0e434",
   "metadata": {},
   "outputs": [],
   "source": [
    "d = requests.get(query)\n",
    "d.json()['included']\n",
    "df = pd.json_normalize(d.json()['included'], record_path=[['attributes', 'values']], meta=[['attributes','title'], ['attributes','type']])"
   ]
  },
  {
   "cell_type": "code",
   "execution_count": 164,
   "id": "728bbddc-c36d-4f80-9040-aed8610323da",
   "metadata": {},
   "outputs": [
    {
     "data": {
      "text/html": [
       "<div>\n",
       "<style scoped>\n",
       "    .dataframe tbody tr th:only-of-type {\n",
       "        vertical-align: middle;\n",
       "    }\n",
       "\n",
       "    .dataframe tbody tr th {\n",
       "        vertical-align: top;\n",
       "    }\n",
       "\n",
       "    .dataframe thead th {\n",
       "        text-align: right;\n",
       "    }\n",
       "</style>\n",
       "<table border=\"1\" class=\"dataframe\">\n",
       "  <thead>\n",
       "    <tr style=\"text-align: right;\">\n",
       "      <th></th>\n",
       "      <th>datetime</th>\n",
       "      <th>attributes.type</th>\n",
       "      <th>percentage</th>\n",
       "    </tr>\n",
       "  </thead>\n",
       "  <tbody>\n",
       "    <tr>\n",
       "      <th>0</th>\n",
       "      <td>2022-01-01T00:00:00.000+01:00</td>\n",
       "      <td>No-Renovable</td>\n",
       "      <td>0.509759</td>\n",
       "    </tr>\n",
       "    <tr>\n",
       "      <th>1</th>\n",
       "      <td>2022-01-01T00:00:00.000+01:00</td>\n",
       "      <td>Renovable</td>\n",
       "      <td>0.490241</td>\n",
       "    </tr>\n",
       "    <tr>\n",
       "      <th>2</th>\n",
       "      <td>2022-01-01T00:00:00.000+01:00</td>\n",
       "      <td>Total generation</td>\n",
       "      <td>1.000000</td>\n",
       "    </tr>\n",
       "    <tr>\n",
       "      <th>3</th>\n",
       "      <td>2022-01-02T00:00:00.000+01:00</td>\n",
       "      <td>No-Renovable</td>\n",
       "      <td>0.601114</td>\n",
       "    </tr>\n",
       "    <tr>\n",
       "      <th>4</th>\n",
       "      <td>2022-01-02T00:00:00.000+01:00</td>\n",
       "      <td>Renovable</td>\n",
       "      <td>0.398886</td>\n",
       "    </tr>\n",
       "    <tr>\n",
       "      <th>5</th>\n",
       "      <td>2022-01-02T00:00:00.000+01:00</td>\n",
       "      <td>Total generation</td>\n",
       "      <td>1.000000</td>\n",
       "    </tr>\n",
       "    <tr>\n",
       "      <th>6</th>\n",
       "      <td>2022-01-03T00:00:00.000+01:00</td>\n",
       "      <td>No-Renovable</td>\n",
       "      <td>0.566433</td>\n",
       "    </tr>\n",
       "    <tr>\n",
       "      <th>7</th>\n",
       "      <td>2022-01-03T00:00:00.000+01:00</td>\n",
       "      <td>Renovable</td>\n",
       "      <td>0.433567</td>\n",
       "    </tr>\n",
       "    <tr>\n",
       "      <th>8</th>\n",
       "      <td>2022-01-03T00:00:00.000+01:00</td>\n",
       "      <td>Total generation</td>\n",
       "      <td>1.000000</td>\n",
       "    </tr>\n",
       "    <tr>\n",
       "      <th>9</th>\n",
       "      <td>2022-01-04T00:00:00.000+01:00</td>\n",
       "      <td>No-Renovable</td>\n",
       "      <td>0.448070</td>\n",
       "    </tr>\n",
       "    <tr>\n",
       "      <th>10</th>\n",
       "      <td>2022-01-04T00:00:00.000+01:00</td>\n",
       "      <td>Renovable</td>\n",
       "      <td>0.551930</td>\n",
       "    </tr>\n",
       "    <tr>\n",
       "      <th>11</th>\n",
       "      <td>2022-01-04T00:00:00.000+01:00</td>\n",
       "      <td>Total generation</td>\n",
       "      <td>1.000000</td>\n",
       "    </tr>\n",
       "    <tr>\n",
       "      <th>12</th>\n",
       "      <td>2022-01-05T00:00:00.000+01:00</td>\n",
       "      <td>No-Renovable</td>\n",
       "      <td>0.397245</td>\n",
       "    </tr>\n",
       "    <tr>\n",
       "      <th>13</th>\n",
       "      <td>2022-01-05T00:00:00.000+01:00</td>\n",
       "      <td>Renovable</td>\n",
       "      <td>0.602755</td>\n",
       "    </tr>\n",
       "    <tr>\n",
       "      <th>14</th>\n",
       "      <td>2022-01-05T00:00:00.000+01:00</td>\n",
       "      <td>Total generation</td>\n",
       "      <td>1.000000</td>\n",
       "    </tr>\n",
       "  </tbody>\n",
       "</table>\n",
       "</div>"
      ],
      "text/plain": [
       "                         datetime   attributes.type  percentage\n",
       "0   2022-01-01T00:00:00.000+01:00      No-Renovable    0.509759\n",
       "1   2022-01-01T00:00:00.000+01:00         Renovable    0.490241\n",
       "2   2022-01-01T00:00:00.000+01:00  Total generation    1.000000\n",
       "3   2022-01-02T00:00:00.000+01:00      No-Renovable    0.601114\n",
       "4   2022-01-02T00:00:00.000+01:00         Renovable    0.398886\n",
       "5   2022-01-02T00:00:00.000+01:00  Total generation    1.000000\n",
       "6   2022-01-03T00:00:00.000+01:00      No-Renovable    0.566433\n",
       "7   2022-01-03T00:00:00.000+01:00         Renovable    0.433567\n",
       "8   2022-01-03T00:00:00.000+01:00  Total generation    1.000000\n",
       "9   2022-01-04T00:00:00.000+01:00      No-Renovable    0.448070\n",
       "10  2022-01-04T00:00:00.000+01:00         Renovable    0.551930\n",
       "11  2022-01-04T00:00:00.000+01:00  Total generation    1.000000\n",
       "12  2022-01-05T00:00:00.000+01:00      No-Renovable    0.397245\n",
       "13  2022-01-05T00:00:00.000+01:00         Renovable    0.602755\n",
       "14  2022-01-05T00:00:00.000+01:00  Total generation    1.000000"
      ]
     },
     "execution_count": 164,
     "metadata": {},
     "output_type": "execute_result"
    }
   ],
   "source": [
    "df.groupby(['datetime', 'attributes.type']).percentage.sum().reset_index().head(20)"
   ]
  },
  {
   "cell_type": "code",
   "execution_count": null,
   "id": "6c3daad1-3374-430b-b9ec-908e1b225ddf",
   "metadata": {},
   "outputs": [],
   "source": []
  }
 ],
 "metadata": {
  "kernelspec": {
   "display_name": "Python 3 (ipykernel)",
   "language": "python",
   "name": "python3"
  },
  "language_info": {
   "codemirror_mode": {
    "name": "ipython",
    "version": 3
   },
   "file_extension": ".py",
   "mimetype": "text/x-python",
   "name": "python",
   "nbconvert_exporter": "python",
   "pygments_lexer": "ipython3",
   "version": "3.9.13"
  }
 },
 "nbformat": 4,
 "nbformat_minor": 5
}
